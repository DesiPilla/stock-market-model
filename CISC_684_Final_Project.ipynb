{
  "nbformat": 4,
  "nbformat_minor": 0,
  "metadata": {
    "colab": {
      "name": "CISC 684 Final Project.ipynb",
      "provenance": [],
      "collapsed_sections": [
        "PYz0UNzIdTHT",
        "oJDMVzeTzlnu",
        "eUFnvFz0dNTW",
        "iUsm_UCd2emB",
        "ijIHsRRA2lzS",
        "1yy96ahF2iSs",
        "Z5bA_PFl6o6h",
        "E49ELcuY649m",
        "yqt19ReCcbUz",
        "uFPu4cmIeQMd",
        "r82Q4aI1eVqZ",
        "Hdw3Tk1rOgxM",
        "T1ekzLn4J_wA",
        "6H_rVajwYViM",
        "1tKIRkW0OB-t",
        "HASnq5Z6OpYh",
        "9jWMPw3uvb-D",
        "4xTrC7hwUivL"
      ]
    },
    "kernelspec": {
      "name": "python3",
      "display_name": "Python 3"
    }
  },
  "cells": [
    {
      "cell_type": "markdown",
      "metadata": {
        "id": "d0a_eXXBdGgw",
        "colab_type": "text"
      },
      "source": [
        "# Premise"
      ]
    },
    {
      "cell_type": "markdown",
      "metadata": {
        "id": "F7WwjzejnpEV",
        "colab_type": "text"
      },
      "source": [
        "**Background**\n",
        "\n",
        "---\n",
        "The stock market is a platform through with securities (also referred to as shares, stocks, equity, etc.) are traded daily. When an individual or corporation buys a share of a stock, they are purchasing a fraction of ownership of the publicly traded company the stock belongs to. \n",
        "\n",
        "The price of a single share changes throughout the business hours of the stock exchange it is traded on, normally 9 am to 5 pm, Monday to Friday in the United States. During these hours, the market is *open*, and securities can be bought and sold freely. When the market closes, no securities can be traded. The price of a share can fluctuate between the close of the market and the next time it opens; often, news or earnings reports about a company can have a major impact on the value of a stock, and take place after market hours. Investors are unable to trade shares of any company until the market opens, by which the opening share price will already reflect the new information revealed since the previous day's close. Some institutions are given the ability to trade pre- and post-hours, but not the typical investor.\n",
        "\n",
        "There are many economic metrics used to measure the value of a security. There are *momentum* indicators, which measure if the price of a share is rising, falling, how quickly, and for how long. There are *value* metrics, which compare the *actual* price of a security with a mathematical calculation of what the price *should* be. This calculation varies for every analyst, though some common metrics take into account a companiy's revenue, profit, cash flow, liabilities, etc."
      ]
    },
    {
      "cell_type": "markdown",
      "metadata": {
        "id": "9kJJUoqadLS8",
        "colab_type": "text"
      },
      "source": [
        "**Goal**\n",
        "\n",
        "---\n",
        "\n",
        "The goal of this project is to create an algorithm that increases the profit realized by investors. \n",
        "\n"
      ]
    },
    {
      "cell_type": "markdown",
      "metadata": {
        "id": "NenRPmV3sszi",
        "colab_type": "text"
      },
      "source": [
        "**Methods**\n",
        "\n",
        "---\n",
        "\n",
        "This goal will be acheived by using two models, a *Logistic Regression* and *Neural Network*.\n",
        "\n",
        "The data was scraped from the internet for individual stocks. This includes daily price and trading data, as well as earnings data for every quarter since 1995.\n",
        "\n",
        "The scraped data was manipulated to calculate a variety of value- and momentum-based metrics.\n",
        "\n",
        "For each trial, a testing date is given. The training data includes a 1 or 2 year period (chosen as a hyperparamter of the model) occurring at least *n* days before the testing date. The test data is comprised of the 6 month period following the testing date.\n",
        "\n",
        "*N* corresponds the the classifcation of an instance. This data has a binary classification defined by whether or not the price of the security increased *n* business days after the current date. It is for this reason that there must be a gap of *n* days between the training and test data. This value is also selected as a hyperparameter of the model. Predicting the price of a stock 1 day into the future (which would practically yield the highest returns), is nearly impossible. It is unrealistic to do so given the feature spaced used in this project, as no geopolitical or media information was gleaned.\n",
        "\n",
        "*Note: This model does not take dividend payouts into account, and all stock prices are split-adjusted."
      ]
    },
    {
      "cell_type": "markdown",
      "metadata": {
        "id": "DhaKG6_jvuOo",
        "colab_type": "text"
      },
      "source": [
        "**Performance**\n",
        "\n",
        "---\n",
        "\n",
        "Economic climates can vary by month, quarter, and year. To gain a more accurate understanding of a model's performance, every 6 month period was tested from the period beginning on January 1st, 2003 to the period beginning on January 1st, 2016 (which ends on July 1st, 2016). The total returns of the model are then aggregated and compared with the total returns of the *unengaged investor*.\n",
        "\n",
        "The *unengaged investor* is a control group to compare the model against. Many analysts try to predict the market, and end up making less money than they would have if they didn't do anything. The *unengaged investor* mimics the returns that would be realized if a stock was bought on the first day of a period and kept untili the final day of the period (also referred to at the *static return*). The model buys and sells a security each day depending on the predicted classification of the test data. \n",
        "\n",
        "When an instance is classified as True (meaning the model expects the share price to increase in the future), the model buys a share of the stock. It then holds the stock until it classifies an instance as False (meaning the model expects the share price to decrease in the future). The maximum returns would be realized if the model were to buy a security the day before it increases, and sell it the day before it decreases, for every day in the test period. The inverse is also possible, which would be the worst case.\n",
        "\n",
        "The performance of this model will not be measured by the accuracy of its predictions. Rather, the most practical measurement of this model are to compare its returns to the *unengaged investor*. If the model produces higher returns than an investor who did not use the model and merely held a security for the duration of the period, than utilizing the model to guide investment decisions will have been worthwhile.\n",
        "\n",
        "*Note: Other measures of success could have also been selected. For example, one could have optimized the model to reduce volatility or minimize losses. This project, however, optimizes the model by maximizing returns without regard for volaility or short-term losses.*"
      ]
    },
    {
      "cell_type": "markdown",
      "metadata": {
        "id": "PYz0UNzIdTHT",
        "colab_type": "text"
      },
      "source": [
        "# Import packages"
      ]
    },
    {
      "cell_type": "code",
      "metadata": {
        "id": "0BxrpGyIBvtA",
        "colab_type": "code",
        "colab": {}
      },
      "source": [
        "import numpy as np\n",
        "import pandas as pd\n",
        "import matplotlib.pyplot as plt\n",
        "import time as t\n",
        "from pandas_datareader import data as wb\n",
        "from datetime import date, timedelta\n",
        "import warnings\n",
        "warnings.filterwarnings('ignore')"
      ],
      "execution_count": 0,
      "outputs": []
    },
    {
      "cell_type": "markdown",
      "metadata": {
        "id": "oJDMVzeTzlnu",
        "colab_type": "text"
      },
      "source": [
        "# Define code for model"
      ]
    },
    {
      "cell_type": "markdown",
      "metadata": {
        "id": "eUFnvFz0dNTW",
        "colab_type": "text"
      },
      "source": [
        "## Define code for pulling individual stock data"
      ]
    },
    {
      "cell_type": "code",
      "metadata": {
        "id": "4TydNfjhwnxx",
        "colab_type": "code",
        "colab": {}
      },
      "source": [
        "sectorInfo = pd.read_csv('https://datahub.io/core/s-and-p-500-companies/r/constituents.csv').set_index('Symbol')"
      ],
      "execution_count": 0,
      "outputs": []
    },
    {
      "cell_type": "code",
      "metadata": {
        "id": "29Z7U_pux0jG",
        "colab_type": "code",
        "colab": {}
      },
      "source": [
        "def getTickers(step):\n",
        "    '''\n",
        "    Input: integer\n",
        "    Output: list (of ticker symbols)\n",
        "\n",
        "    This function returns a list of ticker symbols. On www.stockpup.com, there are 500+ data sets.\n",
        "    This function returns every step-th ticker symbol associated with the available datasets.\n",
        "    '''\n",
        "    url = 'http://www.stockpup.com/data/'\n",
        "    site = BeautifulSoup(requests.get(url).text, \"html.parser\")\n",
        "    files = site.findAll('a')[22:-1][::step]\n",
        "    \n",
        "    tickers = []\n",
        "    for f in files:\n",
        "        if f['href'][-3:] == 'csv':\n",
        "            tickers.append(f['href'][6:].split('_')[0])\n",
        "    return tickers"
      ],
      "execution_count": 0,
      "outputs": []
    },
    {
      "cell_type": "code",
      "metadata": {
        "id": "3Y78lMojxyVZ",
        "colab_type": "code",
        "colab": {}
      },
      "source": [
        "def getPriceData(ticker, daysIntoFuture):  \n",
        "    '''\n",
        "    Input: string (ticker sybol), integer (value used in determining the classification of an instance)\n",
        "    Output: pandas dataframe (historical stock trading data)\n",
        "\n",
        "    This function creates a dataframe containing the historical trading data for a given stock.\n",
        "    All trading data from January 1st, 1995 is pulled from yahoo.\n",
        "    Features calculated from this data include:\n",
        "        - Ticker\n",
        "        - 52 Week High\n",
        "        - 52 Week Low\n",
        "        - 10 Day Moving Average \n",
        "        - 50 Day Moving Average\n",
        "        - 200 Day Moving Average\n",
        "        - 1 Day Change\n",
        "        - 5 Day Change\n",
        "        - 30 Day Change\n",
        "        - Class\n",
        "    The class feature is determined by whethter or not the price of the stock increased\n",
        "    n business days into the future, where n is given by the input variable daysIntoFuture.\n",
        "    '''\n",
        "    pData = pd.DataFrame()\n",
        "\n",
        "    startDate = '1995-01-01'\n",
        "    dataSource = 'yahoo'\n",
        "\n",
        "    ticker_data= wb.DataReader(ticker, data_source = dataSource, start = startDate)\n",
        "    pData = pd.DataFrame(ticker_data)[['Close', 'Volume']]\n",
        "    pData['Ticker'] = ticker\n",
        "    \n",
        "    pData['52 Week High'] = pData['Close'].rolling(window = 5*52).max()\n",
        "    pData['52 Week Low'] = pData['Close'].rolling(window = 5*52).min()\n",
        "\n",
        "    pData['10 Day Moving Average'] = pData['Close'].rolling(window = 10).mean()\n",
        "    pData['50 Day Moving Average'] = pData['Close'].rolling(window = 50).mean()\n",
        "    pData['200 Day Moving Average'] = pData['Close'].rolling(window = 200).mean()\n",
        "\n",
        "    pData['1 Day Change'] = (pData['Close'] - pData['Close'].shift(1)) / pData['Close'].shift(1)\n",
        "    pData['5 Day Change'] = (pData['Close'] - pData['Close'].shift(5)) / pData['Close'].shift(5)\n",
        "    pData['30 Day Change'] = (pData['Close'] - pData['Close'].shift(30)) / pData['Close'].shift(30)\n",
        "\n",
        "    pData['Class'] = pData['Close'].rolling(daysIntoFuture).sum().shift(-daysIntoFuture) - pData['Close'].rolling(daysIntoFuture - 1).sum().shift(-daysIntoFuture + 1) > pData['Close']\n",
        "    \n",
        "    return pData.reset_index()"
      ],
      "execution_count": 0,
      "outputs": []
    },
    {
      "cell_type": "code",
      "metadata": {
        "id": "D8bCBHMZvIBU",
        "colab_type": "code",
        "colab": {}
      },
      "source": [
        "def pullStockData(tick, daysIntoFuture = 30):\n",
        "    '''\n",
        "    Inputs: string (ticker symbol), integer (value used in determining the classification of an instance)\n",
        "    Output: pandas dataframe (historical stock trading and earnings data)\n",
        "\n",
        "    This function creates a dataframe containing the historical trading and earnings data for a given stock.\n",
        "    All trading data from January 1st, 1995 is pulled from yahoo and www.stockpup.com\n",
        "\n",
        "    Features calculated from this data include:\n",
        "      TRADING METRICS\n",
        "        - Close (price at the close of the business day)\n",
        "        - Price / 52 Week High\n",
        "        - Price / 52 Week Low\n",
        "        - 10 Day Moving Average Ratio\n",
        "        - 50 Day Moving Average Ratio\n",
        "        - 200 Day Moving Average Ratio\n",
        "        - 1 Day Change\n",
        "        - 5 Day Change\n",
        "        - 30 Day Change\n",
        "        \n",
        "      FUNDAMENTALS/EARNINGS METRICS\n",
        "        - Market / Book Ratio\n",
        "        - P/E (price to earnings ratio)\n",
        "        - Debt / Equity Ratio\n",
        "        - Free Cash Flow Yield\n",
        "    \n",
        "    The class feature is determined by whethter or not the price of the stock increased\n",
        "    n business days into the future, where n is given by the input variable daysIntoFuture.\n",
        "    '''\n",
        "   \n",
        "    url = 'http://www.stockpup.com/data/'\n",
        "    filePath = '_quarterly_financial_data.csv'\n",
        "\n",
        "    fData = pd.read_csv(url + tick + filePath)\n",
        "    \n",
        "    # Get fundamentals data for stock\n",
        "    fData = fData[['Quarter end',\n",
        "                    'Cash at end of period',\n",
        "                    'Shares split adjusted',\n",
        "                    'Cash from operating activities',\n",
        "                    'Capital expenditures',\n",
        "                    'Assets',\n",
        "                    'Liabilities',\n",
        "                    'EPS basic']]\n",
        "    fData['Ticker'] = tick\n",
        "    \n",
        "    fData['Cash from operating activities'] = pd.to_numeric(fData['Cash from operating activities'], errors = 'coerce')\n",
        "    fData['EPS basic'] = pd.to_numeric(fData['EPS basic'], errors = 'coerce')\n",
        "    fData['Quarter end'] = pd.to_datetime(fData['Quarter end'])\n",
        "    fData = fData.reset_index().drop(columns = ['index']).sort_values(by = 'Quarter end', ascending = True)\n",
        "\n",
        "    # Get price data for stock\n",
        "    pData = getPriceData(tick, daysIntoFuture)\n",
        "\n",
        "    # Merge price and fundamentals data and build attributes\n",
        "    stockData = pd.merge_asof(pData, fData, left_on = 'Date', right_on = 'Quarter end', by = 'Ticker', direction = 'backward', allow_exact_matches = False)\n",
        "    try:\n",
        "        stockData['Sector'] = sectorInfo['Sector'][tick]\n",
        "    except:\n",
        "        stockData['Sector'] = 'Unknown'\n",
        "\n",
        "    stockData['Market / Book Ratio'] = stockData['Close'] / (stockData['Assets'] - stockData['Liabilities']) * stockData['Shares split adjusted']\n",
        "    stockData['P/E'] = stockData['Close'] / stockData['EPS basic']\n",
        "    stockData['Debt / Equity Ratio'] = stockData['Liabilities'] / (stockData['Assets'] - stockData['Liabilities'])\n",
        "    stockData['Free Cash Flow Yield'] = (stockData['Cash from operating activities'] - stockData['Capital expenditures']) / (stockData['Shares split adjusted']*stockData['Close'] + stockData['Liabilities'] - stockData['Cash at end of period'])\n",
        "    \n",
        "    stockData['Price / 52 Week High'] = stockData['Close'] / stockData['52 Week High']\n",
        "    stockData['Price / 52 Week Low'] = stockData['Close'] / stockData['52 Week Low']\n",
        "    \n",
        "    stockData['10 Day Moving Average Ratio'] = stockData['Close'] / stockData['10 Day Moving Average']\n",
        "    stockData['50 Day Moving Average Ratio'] = stockData['Close'] / stockData['50 Day Moving Average']\n",
        "    stockData['200 Day Moving Average Ratio'] = stockData['Close'] / stockData['200 Day Moving Average']\n",
        "    \n",
        "    stockData = stockData[['Ticker',\n",
        "                            'Sector',\n",
        "                            'Date',\n",
        "                            'Close',\n",
        "                            'Price / 52 Week High', \n",
        "                            'Price / 52 Week Low', \n",
        "                            '10 Day Moving Average Ratio',\n",
        "                            '50 Day Moving Average Ratio',\n",
        "                            '200 Day Moving Average Ratio',\n",
        "                            '1 Day Change',\n",
        "                            '5 Day Change',\n",
        "                            '30 Day Change',\n",
        "                            'Volume',\n",
        "                            'Market / Book Ratio',\n",
        "                            'P/E',\n",
        "                            'Debt / Equity Ratio',\n",
        "                            'Free Cash Flow Yield',\n",
        "                            'Class']]\n",
        "\n",
        "    return stockData .dropna()"
      ],
      "execution_count": 0,
      "outputs": []
    },
    {
      "cell_type": "code",
      "metadata": {
        "id": "uhwQ0EZZME2A",
        "colab_type": "code",
        "colab": {}
      },
      "source": [
        "allFeatures = ['Price / 52 Week High', 'Price / 52 Week Low', \n",
        "               '10 Day Moving Average Ratio', '50 Day Moving Average Ratio',\n",
        "               '200 Day Moving Average Ratio', 'Volume',\n",
        "               'Market / Book Ratio', 'P/E', 'Debt / Equity Ratio',\n",
        "               'Free Cash Flow Yield']"
      ],
      "execution_count": 0,
      "outputs": []
    },
    {
      "cell_type": "markdown",
      "metadata": {
        "id": "iUsm_UCd2emB",
        "colab_type": "text"
      },
      "source": [
        "## Code for the Logistic Regression"
      ]
    },
    {
      "cell_type": "code",
      "metadata": {
        "id": "PlK-6bAW2b5H",
        "colab_type": "code",
        "colab": {}
      },
      "source": [
        "class LogisticRegression():\n",
        "    \n",
        "    def __init__(self, learningRate = 0.01, numIter = 5000, thresh = 0.5, fitIntercept = True, printUpdates = True):\n",
        "        self.learningRate = learningRate\n",
        "        self.numIter = numIter\n",
        "        self.thresh = thresh\n",
        "        self.fitIntercept = fitIntercept\n",
        "        self.printUpdates = printUpdates\n",
        "        self.errors = []\n",
        "        self.average = .5\n",
        "\n",
        "    def addIntercept(self, X):\n",
        "        intercept = np.ones((X.shape[0], 1))\n",
        "        return np.concatenate((intercept, X), axis = 1)\n",
        "\n",
        "    def sigmoid(self, z):\n",
        "        return 1 / (1 + np.exp(-z))\n",
        "\n",
        "    def loss(self, Y, h):\n",
        "        return (-Y * np.log(h) - (1 - Y)*np.log(1 - h)).mean()\n",
        "\n",
        "    def fit(self, X, Y):\n",
        "      '''\n",
        "      Inputs: pandas dataframe (training instances), series (training classifications)\n",
        "      Outputs: None\n",
        "\n",
        "      This function takes in the training data and fits a logistic regression to it.\n",
        "      '''\n",
        "      self.trainingData = (X, Y)\n",
        "      if self.fitIntercept:\n",
        "          X = self.addIntercept(X)\n",
        "      \n",
        "      # Initialize weights\n",
        "      self.theta = np.zeros(X.shape[1])\n",
        "\n",
        "      for i in range(1, self.numIter + 1):\n",
        "          z = np.dot(X, self.theta)\n",
        "          h = self.sigmoid(z)\n",
        "          gradient = np.dot(X.T, (h - Y)) / Y.size\n",
        "          self.theta -= self.learningRate * gradient\n",
        "          self.errors.append(self.loss(Y, h))\n",
        "\n",
        "          if (i % 100 == 0 and self.printUpdates):\n",
        "                print('Iteration %d  Error: %.4f' % (i, self.errors[-1]))\n",
        "      #self.threshold = sum(Y) / len(Y)\n",
        "          \n",
        "    def predictProb(self, X):\n",
        "        '''\n",
        "        Inputs: pandas dataframe (testing instances)\n",
        "        Output: array (of floats)\n",
        "\n",
        "        This function takes in a testing dataset (without classifications) and uses the trained\n",
        "        model to predict the probabilities associated with each instance. The returned\n",
        "        floats correspond to the probabilities that each instance is classified as True.\n",
        "        '''\n",
        "        if X.shape[1] < self.theta.shape[0]:\n",
        "            X = self.addIntercept(X)\n",
        "        \n",
        "        return self.sigmoid(np.dot(X, self.theta))\n",
        "\n",
        "    def predict(self, X):\n",
        "        '''\n",
        "        Inputs: pandas dataframe (testing instances)\n",
        "        Output: array (of binary classifications)\n",
        "\n",
        "        This function takes in a testing dataset (without classifications) and uses the trained\n",
        "        model to predict the probabilities associated with each instance. The returned\n",
        "        binary values correspond to the binary classifications predicted by the model.\n",
        "        '''\n",
        "        return self.predictProb(X) > self.thresh\n",
        "\n",
        "    def printThresholds(self, cols):\n",
        "        print('These are the weights for each column for this model:')\n",
        "        print('%30.30s:   %.2f' % ('Intercept', self.theta[0]))\n",
        "        for i in range(1, len(self.theta)):\n",
        "            print('%30.30s:   %.2f' % (cols[i -1], self.theta[i]))"
      ],
      "execution_count": 0,
      "outputs": []
    },
    {
      "cell_type": "markdown",
      "metadata": {
        "id": "ijIHsRRA2lzS",
        "colab_type": "text"
      },
      "source": [
        "## Code for the Neural Network"
      ]
    },
    {
      "cell_type": "code",
      "metadata": {
        "id": "HntdCiD12n3Y",
        "colab_type": "code",
        "colab": {}
      },
      "source": [
        "class ANN:\n",
        "    \n",
        "    def __init__(self, size, momentum = 0.0, nIters = 1000, lr = 0.25, thresh = 0.01, printUpdates = True):\n",
        "        \"\"\" \n",
        "        ---\n",
        "        Network constructor for multi-class classification\n",
        "        ---\n",
        "        size: network size as an array of number of units in input, hidden, output layers\n",
        "              i.e. [100,300,10,5] indicates 100 neurons in input layer, 300 and 10 neurons in subsequent \n",
        "              hidden layes and 5 neurons in output layer\n",
        "        momentum: a constant, to avoid local minima\n",
        "        nIters: number of iterations\n",
        "        lr: learning rate\n",
        "        \n",
        "        \"\"\"\n",
        "        self.size = size\n",
        "        self.nHidden = len(self.size) - 2 #except input and output layer\n",
        "        self.momentum = momentum\n",
        "        self.lr = lr\n",
        "        self.thresh = thresh\n",
        "        self.nIters = nIters\n",
        "        self.errors = []\n",
        "        self.printUpdates = printUpdates\n",
        "        \n",
        "        self.weights = {}\n",
        "        self.biases = {}\n",
        "        # Initialize weights and biases\n",
        "        for k in range(self.nHidden + 1):\n",
        "            self.weights[k+1] = np.random.randn(self.size[k], self.size[k+1]) / np.sqrt(self.size[k])\n",
        "            self.biases[k+1] = np.random.rand(1,self.size[k+1])\n",
        "        \n",
        "        \n",
        "    def feedFwd(self, inputs):\n",
        "        \"\"\" Propagate the network forward \"\"\"\n",
        "        if type(inputs) != np.ndarray:\n",
        "            inputs = inputs.to_numpy()\n",
        "        self.pre_activations = {} #Linear, i.e. w.x+b\n",
        "        self.hidden = {} # after activation, i.e. sigmoid(w.x+b)\n",
        "        \n",
        "        self.hidden[0] = np.array([inputs])\n",
        "        for k in range(self.nHidden + 1):\n",
        "            self.pre_activations[k+1] = np.dot(self.hidden[k], self.weights[k+1]) + self.biases[k+1] \n",
        "            self.hidden[k+1] = sigmoid(self.pre_activations[k+1])\n",
        "        \n",
        "        output = self.hidden[self.nHidden + 1]\n",
        "        return output\n",
        "    \n",
        "    def backProp(self, inputs, targets):\n",
        "        #self.feedFwd(inputs)\n",
        "        \n",
        "        self.d_weights = {}\n",
        "        self.d_biases = {}    \n",
        "        self.d_hidden = {}\n",
        "        \n",
        "        for k in range(self.nHidden + 1):\n",
        "            self.d_weights[k+1] = np.zeros((np.shape(self.weights[k+1])))\n",
        "            self.d_biases[k+1] = np.zeros((np.shape(self.biases[k+1])))\n",
        "            \n",
        "        self.output = self.feedFwd(inputs)\n",
        "        #error = (1/2)*np.sum((self.output - targets)**2)\n",
        "        \n",
        "        self.d_hidden[self.nHidden + 1] = (targets - self.output)*grad_sigmoid(self.output) # delta_o\n",
        "        \n",
        "        # compute deltas\n",
        "        for k in range(self.nHidden + 1, 0, -1):\n",
        "            self.d_hidden[k-1] = grad_sigmoid(self.hidden[k-1])*(np.dot(self.d_hidden[k],np.transpose(self.weights[k])))\n",
        "            self.d_weights[k] = np.transpose(np.dot(np.transpose(self.d_hidden[k]),self.hidden[k-1])) + self.momentum*self.d_weights[k]\n",
        "            self.d_biases[k] = self.d_hidden[k] + self.momentum*self.d_biases[k] \n",
        "            \n",
        "    def train(self, X, Y):\n",
        "        '''\n",
        "        Inputs: pandas dataframe (training instances), series (training classifications)\n",
        "        Outputs: None\n",
        "\n",
        "        This function takes in the training data and fits a logistic regression to it.\n",
        "        '''\n",
        "        X = X.to_numpy()\n",
        "        Y = Y.to_numpy()\n",
        "        pred = np.empty(Y.shape)\n",
        "        for i in range(self.nIters+1):\n",
        "            for k, (x, y) in enumerate(zip(X,Y)):\n",
        "                self.backProp(x,y)\n",
        "                pred[k] = self.feedFwd(x)\n",
        "\n",
        "                # weight updates\n",
        "                for k in range(self.nHidden + 1):\n",
        "                    self.weights[k+1] += self.lr*self.d_weights[k+1]\n",
        "                    self.biases[k+1] += self.lr*self.d_biases[k+1]\n",
        "                \n",
        "            self.errors.append(np.sum(pred-Y))\n",
        "            if (i % 10 == 0 and self.printUpdates):\n",
        "                print('Iteration %d  Error: %.4f' % (i, self.errors[-1]))\n",
        "            if len(self.errors) > 1:\n",
        "                if abs(self.errors[-1] - self.errors[-2]) < self.thresh:\n",
        "                    break\n",
        "\n",
        "    def predictProb(self, X):\n",
        "        '''\n",
        "        Inputs: pandas dataframe (testing instances)\n",
        "        Output: array (of floats)\n",
        "\n",
        "        This function takes in a testing dataset (without classifications) and uses the trained\n",
        "        model to predict the probabilities associated with each instance. The returned\n",
        "        floats correspond to the probabilities that each instance is classified as True.\n",
        "        '''\n",
        "        return self.feedFwd(X)[0,:,0]\n",
        "\n",
        "    def predict(self, X):\n",
        "        '''\n",
        "        Inputs: pandas dataframe (testing instances)\n",
        "        Output: array (of binary classifications)\n",
        "\n",
        "        This function takes in a testing dataset (without classifications) and uses the trained\n",
        "        model to predict the probabilities associated with each instance. The returned\n",
        "        binary values correspond to the binary classifications predicted by the model.\n",
        "        '''\n",
        "        return self.predictProb(X) > .5\n",
        "\n",
        "def sigmoid(z):\n",
        "    return 1/(1 + np.exp(-z))\n",
        "\n",
        "def grad_sigmoid(z):\n",
        "    return z*(1 - z) "
      ],
      "execution_count": 0,
      "outputs": []
    },
    {
      "cell_type": "markdown",
      "metadata": {
        "id": "1yy96ahF2iSs",
        "colab_type": "text"
      },
      "source": [
        "## Code for running the model"
      ]
    },
    {
      "cell_type": "code",
      "metadata": {
        "id": "GzCpPPrHDw2u",
        "colab_type": "code",
        "colab": {}
      },
      "source": [
        "startMidDate = '01-01-2003'\n",
        "finalMidDate = '01-01-2016'\n",
        "\n",
        "def normalize(X): \n",
        "    ''' \n",
        "    Input: Matrix or dataframe (containing only floats)\n",
        "    Output: Matrix or dataframe\n",
        "\n",
        "    This function normalizes the input matrix or dataframe along each column and across all rows.\n",
        "    '''\n",
        "    mins = np.min(X, axis = 0) \n",
        "    maxs = np.max(X, axis = 0) \n",
        "    rng = maxs - mins \n",
        "    norm_X = 1 - ((maxs - X)/rng) \n",
        "    return norm_X \n",
        "\n",
        "def runModel(ticker, midDate, trainDataYears = 2, modelType = 'LogReg', daysIntoFuture = 30, lr = 0.01, numIter = 5000, updates = True, printResults = True, cols = allFeatures, thresh = 0.5):\n",
        "    '''\n",
        "    Inputs: string (ticker symbol), string (midDate, of format 'mm-dd-yyyy'), **kwargs\n",
        "    **kwargs:\n",
        "        - trainDataYears: int\n",
        "            This int corresponds to the length of the training data, in years\n",
        "        - modelType: string, {'LogReg', 'NeuralNet'}\n",
        "            This defines whether the model is a logistic regression or a neural network\n",
        "        - daysIntoFuture: int, used to define the classification of each instance\n",
        "        - lr: float, learning rate of the model\n",
        "        - numIter: int, number of iterations used in fitting the model\n",
        "        - updates: Boolean\n",
        "            If True, updates about the model's progress will be printed when fitting it to the training data\n",
        "        - printResults: Boolen\n",
        "            If True, the results (accuracy, returns) of the model will be printed after testing the model\n",
        "        - cols: list of strings, where each element is a feature that is to be included in the returned dataframes\n",
        "        - thresh: float, the cutoff between predicting True and False when predicting classifications\n",
        "    Output: pandas dataframe (trainData), pandas dataframe (testData)\n",
        "\n",
        "    This function creates a model for a specific stock over a given training period and tests it over a 6 month period.\n",
        "    '''\n",
        "    np.random.seed(0)\n",
        "    data = pullStockData(ticker, daysIntoFuture)\n",
        "    \n",
        "    startTrainData = subtractNDays(midDate, daysIntoFuture - 1)\n",
        "    for i in range(trainDataYears):\n",
        "        startTrainData = subtractOneYear(startTrainData)\n",
        "\n",
        "    # Get training and test data\n",
        "    trainData, testData = getTrainTest(data, midDate, startDate = startTrainData, cols = cols, daysIntoFuture = daysIntoFuture)  \n",
        "\n",
        "    # Create inputs and outputs for the training data\n",
        "    X = trainData[cols]\n",
        "    Y = trainData['Class']\n",
        "    pricesTrain = trainData['Close']\n",
        "\n",
        "    # Create inputs and outputs for the test data\n",
        "    xTest = testData[cols]\n",
        "    yTest = testData['Class']\n",
        "    pricesTest = testData['Close']\n",
        "\n",
        "    if modelType == 'LogReg':\n",
        "        # Create and fit the model\n",
        "        model = LogisticRegression(learningRate = lr, numIter = numIter, printUpdates = updates, thresh = thresh);\n",
        "        model.fit(X, Y);\n",
        "    \n",
        "    elif modelType == 'NeuralNet':\n",
        "        nHidden = [250]\n",
        "        size = [X.shape[1]] + nHidden+[1] # last array [1] corresponds to output layer\n",
        "\n",
        "        # Create a model instance\n",
        "        model = ANN(size, printUpdates = updates, nIters = numIter)\n",
        "        model.train(X, Y)\n",
        "\n",
        "    # Predict the classifications of the training and test data\n",
        "    predictionsTrain = model.predict(X)\n",
        "    predictionsTest = model.predict(xTest)\n",
        "\n",
        "    #return model, pricesTrain, predictionsTrain, pricesTest, predictionsTest\n",
        "\n",
        "    # Get the accuracy of the model on the training and test data\n",
        "    accuracyTrain = getAccuracy(predictionsTrain, Y)\n",
        "    accuracyTest = getAccuracy(predictionsTest, yTest)\n",
        "    \n",
        "    if printResults:\n",
        "        print('\\nThe accuracy of the model on the training data from %s to %s was %.2f%%' % (trainData.Date[0].strftime(\"%b %d, %Y\"), trainData.Date.to_list()[-1].strftime(\"%b %d, %Y\"), 100*accuracyTrain))\n",
        "        print('The accuracy of the model on %s stock from %s to %s was %.2f%%\\n' % (ticker, testData.Date[0].strftime(\"%b %d, %Y\"), testData.Date.to_list()[-1].strftime(\"%b %d, %Y\"), 100*accuracyTest))\n",
        "\n",
        "        if modelType == 'LogReg':\n",
        "            model.printThresholds(cols)\n",
        "        printReturns(pricesTrain, predictionsTrain)\n",
        "        printReturns(pricesTest, predictionsTest)\n",
        "\n",
        "    return model, pricesTrain, predictionsTrain, accuracyTrain, pricesTest, predictionsTest, accuracyTest\n",
        "\n",
        "def runAllPeriods(ticker, startMidDate, finalMidDate, modelType = 'LogReg', cols = allFeatures, daysIntoFuture = 30, trainDataYears = 2, printResults = False, printYears = True, numIter = 5000, thresh = 0.5):\n",
        "    '''\n",
        "    Inputs: string ('ticker symbol'), string (startMidDate, of format 'mm-dd-yyyy'), string (endMidDate, of format 'mm-dd-yyyy'), **kwargs\n",
        "    **kwargs:\n",
        "        - modelType: string, {'LogReg', 'NeuralNet'}\n",
        "            This defines whether each model is a logistic regression or a neural network\n",
        "        - cols: list of strings, where each element is a feature that is to be included in the models\n",
        "        - daysIntoFuture: int, used to define the classification of each instance\n",
        "        - trainDataYears: int\n",
        "            This int corresponds to the length of each training set, in years\n",
        "        - printResults: Boolen\n",
        "            If True, the results (accuracy, returns) of each model will be printed after testing each model\n",
        "        - printYears: {True, 'some', False}\n",
        "            If True, the starting and ending date of every period will be printed as it is being tested.\n",
        "            If 'some', the starting and ending date of every 4th period will be printed as it is being tested.\n",
        "            If False, no updates will be printed.\n",
        "        - numIter: int, number of iterations used in fitting each model\n",
        "        - thresh: float, the cutoff between predicting True and False when predicting classifications\n",
        "\n",
        "    Output: list of objects, list of floats (staticReturns), list of floats (modelReturns), list of floats (accuracies), list of strings (midDates)\n",
        "\n",
        "    This function creates a model for every 6 month period between the two input dates.\n",
        "    Each model is trained based on training data relative to the start of its testing period.\n",
        "    Each model is then tested over the 6 month period following the start of its testing period.\n",
        "    '''\n",
        "    midDates, models, staticReturns, modelReturns, accuracies = [], [], [], [], []\n",
        "    count = 0\n",
        "    midDate = startMidDate\n",
        "    while yearsBetween(midDate, finalMidDate) >= 0: \n",
        "        if printYears == True or (printYears =='some' and count % 4 == 0):\n",
        "            print('Testing period from %s to %s' % (pd.to_datetime(midDate).strftime(\"%b %d, %Y\"), pd.to_datetime(addSixMonths(midDate)).strftime(\"%b %d, %Y\")))\n",
        "\n",
        "        midDates.append(midDate)\n",
        "\n",
        "        if count == 0:\n",
        "            midDate = addOneDay(midDate)\n",
        "        model, pricesTrain, predictionsTrain, accuracyTrain, pricesTest, predictionsTest, accuracyTest = runModel(ticker, subtractOneDay(midDate), trainDataYears = trainDataYears, modelType = modelType, daysIntoFuture = daysIntoFuture, updates = False, printResults = printResults, cols = cols, numIter = numIter, thresh = thresh)\n",
        "        sReturn, mReturn = getReturns(pricesTest, predictionsTest)\n",
        "        models.append(model)\n",
        "        staticReturns.append(sReturn)\n",
        "        modelReturns.append(mReturn)\n",
        "        accuracies.append(accuracyTest)\n",
        "\n",
        "        midDate = addSixMonths(midDate)       # Test data is a six month period\n",
        "        count += 1\n",
        "\n",
        "    plotReturns(midDates, staticReturns, modelReturns)\n",
        "    printTotalReturns(midDates, staticReturns, modelReturns)\n",
        "    printAccuracies(accuracies)\n",
        "    return models, staticReturns, modelReturns, accuracies, midDates"
      ],
      "execution_count": 0,
      "outputs": []
    },
    {
      "cell_type": "markdown",
      "metadata": {
        "id": "Z5bA_PFl6o6h",
        "colab_type": "text"
      },
      "source": [
        "## Date manipulation functions"
      ]
    },
    {
      "cell_type": "code",
      "metadata": {
        "id": "NKSnoB-W6wLZ",
        "colab_type": "code",
        "colab": {}
      },
      "source": [
        "def addThreeMonths(date):\n",
        "    '''\n",
        "    Input: string (date, of format 'mm-dd-yyyy')\n",
        "    Output: string (date, of format 'mm-dd-yyyy')\n",
        "\n",
        "    This function adds three months to a date and returns the new date as a string.\n",
        "    '''\n",
        "    if date[:2] == '10':\n",
        "        date = '01' + date[2:-2] + '%2.2d' % (int(date[-2:]) + 1)\n",
        "    else:\n",
        "        date = '%2.2d' % (int(date[:2]) + 3) + date[2:]\n",
        "    return date\n",
        "\n",
        "def addSixMonths(date):\n",
        "    '''\n",
        "    Input: string (date, of format 'mm-dd-yyyy')\n",
        "    Output: string (date, of format 'mm-dd-yyyy')\n",
        "\n",
        "    This function adds six months to a date and returns the new date as a string.\n",
        "    '''\n",
        "    if date[:2] in ['01', '12']:\n",
        "        year = getYear(date)\n",
        "        if date[:2] == '12':\n",
        "            year += 1\n",
        "        return '07-01-%2.2d' % year\n",
        "    else:\n",
        "        return '01-01' + date[5:-2] + '%2.2d' % (int(date[-2:]) + 1)\n",
        "\n",
        "def addOneYear(date):\n",
        "    '''\n",
        "    Input: string (date, of format 'mm-dd-yyyy')\n",
        "    Output: string (date, of format 'mm-dd-yyyy')\n",
        "\n",
        "    This function adds one year to a date and returns the new date as a string.\n",
        "    '''\n",
        "    return date[:-2] + '%2.2d' % (int(date[-2:]) + 1)\n",
        "\n",
        "def subtractOneDay(date):\n",
        "    '''\n",
        "    Input: string (date, of format 'mm-dd-yyyy')\n",
        "    Output: string (date, of format 'mm-dd-yyyy')\n",
        "\n",
        "    This function subtracts one day from the given date.\n",
        "    It the new date is not a business day, it continues to subtract days until\n",
        "    it reaches a business day.\n",
        "    The new date is returned as a string.\n",
        "    '''\n",
        "    adate = pd.to_datetime(date)\n",
        "    adate -= timedelta(days=1)\n",
        "    while adate.weekday() > 4: # Mon-Fri are 0-4\n",
        "        adate -= timedelta(days=1)\n",
        "    return adate.strftime(\"%m-%d-%Y\")\n",
        "\n",
        "def addOneDay(date):\n",
        "    '''\n",
        "    Input: string (date, of format 'mm-dd-yyyy')\n",
        "    Output: string (date, of format 'mm-dd-yyyy')\n",
        "\n",
        "    This function adds one day to the given date.\n",
        "    If the new date is not a business day, it continues to add days until\n",
        "    it reaches a business day.\n",
        "    The new date is returned as a string.\n",
        "    '''\n",
        "    adate = pd.to_datetime(date)\n",
        "    adate += timedelta(days=1)\n",
        "    while adate.weekday() > 4: # Mon-Fri are 0-4\n",
        "        adate += timedelta(days=1)\n",
        "    return adate.strftime(\"%m-%d-%Y\")\n",
        "\n",
        "def subtractSixMonths(date):\n",
        "    '''\n",
        "    Input: string (date, of format 'mm-dd-yyyy')\n",
        "    Output: string (date, of format 'mm-dd-yyyy')\n",
        "\n",
        "    This function subtracts six months from a date and returns the new date as a string.\n",
        "    '''\n",
        "    if date[:2] == '07':\n",
        "        date = '01-01' + date[5:]\n",
        "    else:\n",
        "        date = '01-01' + date[5:-2] + '%2.2d' % (int(date[-2:]) - 1)\n",
        "    return date\n",
        "\n",
        "def subtractOneYear(date):\n",
        "    '''\n",
        "    Input: string (date, of format 'mm-dd-yyyy')\n",
        "    Output: string (date, of format 'mm-dd-yyyy')\n",
        "\n",
        "    This function subtracts one year from a date and returns the new date as a string.\n",
        "    '''\n",
        "    return date[:-2] + '%2.2d' % (int(date[-2:]) - 1)\n",
        "\n",
        "def getYear(date):\n",
        "    '''\n",
        "    Input: string (date, of format 'mm-dd-yyyy')\n",
        "    Output: int (year)\n",
        "\n",
        "    This function returns the year of a given date.\n",
        "    '''\n",
        "    return int(date[-4:])\n",
        "\n",
        "def getMonth(date):\n",
        "    '''\n",
        "    Input: string (date, of format 'mm-dd-yyyy')\n",
        "    Output: int (year)\n",
        "\n",
        "    This function returns the month of a given date.\n",
        "    '''\n",
        "    return int(date[:2])\n",
        "\n",
        "def yearsBetween(d1, d2):\n",
        "    '''\n",
        "    Input: string (startDate, of format 'mm-dd-yyyy'), string (endDate, of format 'mm-dd-yyyy')\n",
        "    Output: int (year)\n",
        "\n",
        "    This function returns the number of years between two dates. \n",
        "    Each month counts as 1/12 of a year.\n",
        "    '''\n",
        "    nYears = getYear(d2) - getYear(d1)\n",
        "    nYears += (getMonth(d2) - getMonth(d1)) / 12\n",
        "    return nYears    \n",
        "\n",
        "def busDaysBetween(startDate, endDate):\n",
        "    '''\n",
        "    Input: string (startDate, of format 'mm-dd-yyyy'), string (endDate, of format 'mm-dd-yyyy')\n",
        "    Output: int (year)\n",
        "\n",
        "    This function returns number of business days between two dates.\n",
        "    '''\n",
        "    startDate = [int(x) for x in startDate.split('-')]\n",
        "    startDate = date(startDate[2], startDate[0], startDate[1])\n",
        "    endDate = [int(x) for x in endDate.split('-')]\n",
        "    endDate = date(endDate[2], endDate[0], endDate[1])\n",
        "    days = np.busday_count(startDate, endDate)\n",
        "    return days\n",
        "\n",
        "def subtractNDays(date, n):\n",
        "    '''\n",
        "    Input: string (date, of format 'mm-dd-yyyy'), int (number of business days to subtract)\n",
        "    Output: string (date, of format 'mm-dd-yyyy')\n",
        "\n",
        "    This function adds n days to the given date.\n",
        "    If the new date is not a business day, it continues to add days until\n",
        "    it reaches a business day.\n",
        "    The new date is returned as a string.\n",
        "    '''\n",
        "    adate = pd.to_datetime(date)\n",
        "    for i in range(n):\n",
        "        adate -= timedelta(days = 1)\n",
        "        while adate.weekday() > 4: # Mon-Fri are 0-4\n",
        "            adate -= timedelta(days=1)\n",
        "    return adate.strftime(\"%m-%d-%Y\")\n",
        "\n",
        "def addNDays(date, n):\n",
        "    '''\n",
        "    Input: string (date, of format 'mm-dd-yyyy'), int (number of business days to add)\n",
        "    Output: string (date, of format 'mm-dd-yyyy')\n",
        "\n",
        "    This function adds n business days to the given date.\n",
        "    If the new date is not a business day, it continues to add days until\n",
        "    it reaches a business day.\n",
        "    The new date is returned as a string.\n",
        "    '''\n",
        "    adate = pd.to_datetime(date)\n",
        "    for i in range(n):\n",
        "        adate += timedelta(days=1)\n",
        "        while adate.weekday() > 4: # Mon-Fri are 0-4\n",
        "            adate += timedelta(days=1)\n",
        "    return adate.strftime(\"%m-%d-%Y\")"
      ],
      "execution_count": 0,
      "outputs": []
    },
    {
      "cell_type": "markdown",
      "metadata": {
        "id": "E49ELcuY649m",
        "colab_type": "text"
      },
      "source": [
        "## Economic functions"
      ]
    },
    {
      "cell_type": "code",
      "metadata": {
        "id": "dyKBu_fW67kI",
        "colab_type": "code",
        "colab": {}
      },
      "source": [
        "def annualizedReturn(totalReturn, startDate, endDate):\n",
        "    '''\n",
        "    Input: float (cummulative return), string (date, of format 'mm-dd-yyyy'), string (date, of format 'mm-dd-yyyy')\n",
        "    Output: float (annualized returns)\n",
        "\n",
        "    This function converts a cumulative return to an annualized return.\n",
        "    The two date inputs are used to determine the number of years over which the cummulative returns are realized.\n",
        "    '''\n",
        "    years = yearsBetween(startDate, endDate)\n",
        "    return (totalReturn + 1)**(1/years) - 1\n",
        "\n",
        "def cumulativeReturn(periodReturns):\n",
        "    '''\n",
        "    Input: list of floats (returns for each period)\n",
        "    Output: float (cummulative return)\n",
        "\n",
        "    This function converts a list of consecutive returns into a single cummulative return.\n",
        "    '''\n",
        "    cumulativeReturn = 1\n",
        "    for i in range(len(periodReturns)):\n",
        "        cumulativeReturn *= (1 + periodReturns[i])\n",
        "    return cumulativeReturn - 1\n",
        "\n",
        "def getReturns(prices, predictions):\n",
        "    '''\n",
        "    Input: list of floats (consecutive price data), list of Booleans (predicted classifications)\n",
        "    Output: float (total return)\n",
        "\n",
        "    This function calculates the static and model returns over a period.\n",
        "\n",
        "    Static return: this takes the difference between the final price and the initial price (total gains)\n",
        "    normalizes it by dividing the difference by the initial price.\n",
        "\n",
        "    Model return: this uses the Boolean predictions as a guide to invest in or sell the stock.\n",
        "    When the prediction is True, it buys a share, and vice versa. At the end of the period, it measures\n",
        "    the total returns generated, also normalizing by the initial stock price.\n",
        "    '''\n",
        "    # Returns if the stock was bought at the begining of the period and not sold until the end of the period\n",
        "    staticReturn = prices.iloc[-1] / prices.iloc[0]\n",
        "\n",
        "    # Returns if the stock was bought when the model predicted the price would increase, and sold when the model predicted it would decrease\n",
        "    buying = True\n",
        "    balance = prices.iloc[0]\n",
        "    for i in range(len(prices)):\n",
        "        if predictions[i] and buying:\n",
        "            balance -= prices.iloc[i]\n",
        "            buying = False\n",
        "        if (not predictions[i]) and (not buying):\n",
        "            balance += prices.iloc[i]\n",
        "            buying = True\n",
        "    if not buying:\n",
        "        balance += prices.iloc[-1]\n",
        "    modelReturn = balance / prices.iloc[0]\n",
        "    \n",
        "    return staticReturn - 1, modelReturn - 1\n",
        "\n",
        "def printReturns(prices, predictions):\n",
        "    '''\n",
        "    Input: list of floats (consecutive price data), list of Booleans (predicted classifications)\n",
        "    Output: None\n",
        "\n",
        "    This function calculates the static and model returns over a period, and prints them out nicely.\n",
        "    '''\n",
        "    staticReturn, modelReturn = getReturns(prices, predictions)\n",
        "    print('\\n\\033[1mTotal Static Return:\\033[0m %.1f%%' % (100*staticReturn))\n",
        "    print('\\033[1mTotal Model Return:\\033[0m %.1f%%' % (100*modelReturn))\n",
        "\n",
        "def plotReturns(midDates, staticReturns, modelReturns):\n",
        "    '''\n",
        "    Inputs: list of strings (midDates), list of floats (staticReturns), list of floats (modelReturns)\n",
        "    Output: None\n",
        "\n",
        "    This function plots the static and model returns for all periods.\n",
        "    The midDates represent the starting date of each test period.\n",
        "    '''\n",
        "    # Plot the static and model returns\n",
        "    ind = np.arange(len(midDates)) \n",
        "    width = 0.4\n",
        "    ax = plt.figure().add_subplot(1, 1, 1)\n",
        "    ax.bar(ind, staticReturns, width, label = 'Static Returns')\n",
        "    ax.bar(ind + width, modelReturns, width, label = 'Model Returns')\n",
        "    ax.legend()\n",
        "\n",
        "    # Clean up axis labels\n",
        "    ax.axhline(y = 0, color = 'k', linewidth = 0.5)\n",
        "    ax.set_yticklabels(['{:,.2%}'.format(tick) for tick in ax.get_yticks()]);\n",
        "    ax.set_xticks(ind[::3] + width / 2)\n",
        "    ax.set_xticklabels(midDates[::3])\n",
        "    for tick in ax.get_xticklabels():\n",
        "        tick.set_rotation(45)\n",
        "    ax.set_title(\"Returns from %s to %s\" % (midDates[0], midDates[-1]))\n",
        "\n",
        "def printTotalReturns(midDates, staticReturns, modelReturns):\n",
        "    '''\n",
        "    Inputs: list of strings (midDates), list of floats (staticReturns), list of floats (modelReturns)\n",
        "    Output: None\n",
        "\n",
        "    This function calculates the static and model returns over all periods, and prints them out nicely.\n",
        "    '''\n",
        "    totalStaticReturn = cumulativeReturn(staticReturns)\n",
        "    totalModelReturn = cumulativeReturn(modelReturns)\n",
        "\n",
        "    startDate, endDate = midDates[0], addSixMonths(midDates[-1])\n",
        "    print('\\nFrom the period %s to %s, the total returns were:' % (startDate, endDate))\n",
        "    print('\\tStatic Returns: %.2f%%   (%.2f%% /yr)' % (100*totalStaticReturn, 100*annualizedReturn(totalStaticReturn, startDate, endDate)))\n",
        "    print('\\tModel Returns: %.2f%%   (%.2f%% /yr)' % (100*totalModelReturn, 100*annualizedReturn(totalModelReturn, startDate, endDate)))\n",
        "\n",
        "    if totalStaticReturn > totalModelReturn:\n",
        "        msg = \"holding onto the stock for the entire period.\"\n",
        "    else:\n",
        "        msg = \"using the model to buy/sell the stock throughout the period.\"\n",
        "    print('\\nBased on these results, an investor would have been better off\\033[1m', msg, '\\033[0m')"
      ],
      "execution_count": 0,
      "outputs": []
    },
    {
      "cell_type": "markdown",
      "metadata": {
        "id": "0RsfNR-p6xdi",
        "colab_type": "text"
      },
      "source": [
        "## Dataframe maniuplation functions"
      ]
    },
    {
      "cell_type": "code",
      "metadata": {
        "id": "BWCEQdXrvaCY",
        "colab_type": "code",
        "colab": {}
      },
      "source": [
        "def splitByDate(data, startDate, endDate):\n",
        "    '''\n",
        "    Inputs: pandas dataframe (data), string (date, of format 'mm-dd-yyyy'), string (date, of format 'mm-dd-yyyy')\n",
        "    Output: pandas dataframe\n",
        "\n",
        "    This function returns a queried subset of a dataframe of all instances between the two given dates.\n",
        "    The index of the queried dataframe is reset.\n",
        "    '''\n",
        "    startDate = pd.to_datetime(startDate)\n",
        "    endDate = pd.to_datetime(endDate)\n",
        "\n",
        "    splitData = data[data['Date'] >= startDate]\n",
        "    splitData = splitData[splitData['Date'] < endDate]\n",
        "    return splitData.reset_index(drop = True)\n",
        "\n",
        "def getTrainTest(data, midDate, startDate = None, cols = allFeatures, daysIntoFuture = 1):\n",
        "    '''\n",
        "    Inputs: pandas dataframe (data), string (midDate, of format 'mm-dd-yyyy'), **kwargs\n",
        "    **kwargs:\n",
        "        - startDate: string (of format 'mm-dd-yyyy')\n",
        "        - cols: list of strings, where each element is a feature that is to be included in the returned dataframes\n",
        "        - daysIntoFuture: int, used to define the classification of each instance\n",
        "    Output: pandas dataframe (trainData), pandas dataframe (testData)\n",
        "\n",
        "    This function creates two dataframes.\n",
        "\n",
        "    TRAINING DATA\n",
        "        This is a queried subset of a dataframe of all instances between the two dates.\n",
        "        The starting date of this dataset is startDate. If startDate = None, it is set\n",
        "        equal to midDate minus 1 year minus daysIntoFuture days.\n",
        "        The ending date of this dataset is midDate minus daysIntoFuture days.\n",
        "\n",
        "    TEST DATA\n",
        "        This is a queried subset of a dataframe of all instances between the two dates.\n",
        "        The starting date of this dataset is midDate.\n",
        "        The ending date of this dataset is midDate plus 6 months.\n",
        "\n",
        "    The indicies of both datasets are reset.\n",
        "    '''\n",
        "    if not startDate:\n",
        "        startDate = subtractNDays(subtractOneYear(midDate), daysIntoFuture - 1)\n",
        "        \n",
        "    endDate = addSixMonths(midDate)\n",
        "    \n",
        "    # Normalize the data\n",
        "    data = splitByDate(data, startDate, endDate)\n",
        "    data[cols] = normalize(data[cols])\n",
        "\n",
        "    # Get splits\n",
        "    trainData = splitByDate(data, startDate, subtractNDays(midDate, daysIntoFuture))\n",
        "    testData = splitByDate(data, midDate, endDate)\n",
        "    return trainData, testData    \n",
        "\n",
        "def rankFeatures(ticker, startDate, endDate):\n",
        "    '''\n",
        "    Inputs: string (ticker symbol), string (date, of format 'mm-dd-yyyy'), string (date, of format 'mm-dd-yyyy')\n",
        "    Output: series (sorted correlation values)\n",
        "\n",
        "    This function returns the correlation values between the classification and each feature of the stock data.\n",
        "    '''\n",
        "    df = pullStockData(ticker)\n",
        "    df = splitByDate(df, startDate, endDate)\n",
        "    return (-abs(df.corr())).sort_values(by = 'Class').Class"
      ],
      "execution_count": 0,
      "outputs": []
    },
    {
      "cell_type": "markdown",
      "metadata": {
        "id": "yqt19ReCcbUz",
        "colab_type": "text"
      },
      "source": [
        "## Accuracy functions"
      ]
    },
    {
      "cell_type": "code",
      "metadata": {
        "id": "2KKVtuTWcafB",
        "colab_type": "code",
        "colab": {}
      },
      "source": [
        "def getAccuracy(predictions, Y):\n",
        "    '''\n",
        "    Inputs: list of Booleans (predicted classifications), list of Booleans (actual classifications)\n",
        "    Output: float\n",
        "    \n",
        "    This function returns the fraction of predictions that were correctly classified.\n",
        "    '''\n",
        "    return (predictions == Y).mean()\n",
        "\n",
        "def printAccuracies(accuracies):\n",
        "    print('The total accuracy of the model was %.2f%%  (min %.2f%%, median %.2f,  max %.2f%%)' % (np.mean(accuracies), min(accuracies), np.median(accuracies), max(accuracies)))"
      ],
      "execution_count": 0,
      "outputs": []
    },
    {
      "cell_type": "markdown",
      "metadata": {
        "id": "uFPu4cmIeQMd",
        "colab_type": "text"
      },
      "source": [
        "# Case Studies"
      ]
    },
    {
      "cell_type": "markdown",
      "metadata": {
        "id": "r82Q4aI1eVqZ",
        "colab_type": "text"
      },
      "source": [
        "## Case Study: Amazon.com, Inc. (AMZN)\n",
        "\n",
        "Static Returns: 30.55% /yr\n",
        "\n",
        "**Logistic Regrssion Returns: 31.51% /yr**\n",
        "\n",
        "Neural Network Returns: 21.95% /yr"
      ]
    },
    {
      "cell_type": "code",
      "metadata": {
        "id": "ScnQnUQBeY29",
        "colab_type": "code",
        "outputId": "bb8c2e1c-cbbe-4930-c4ac-57da73a1a7ac",
        "colab": {
          "base_uri": "https://localhost:8080/",
          "height": 557
        }
      },
      "source": [
        "logCols = ['50 Day Moving Average Ratio', \n",
        "           'Volume',\n",
        "           'Market / Book Ratio',\n",
        "           'P/E',\n",
        "           'Debt / Equity Ratio',\n",
        "           'Free Cash Flow Yield']\n",
        "           \n",
        "results = runAllPeriods('AMZN', startMidDate, finalMidDate, modelType = 'LogReg', cols = logCols, daysIntoFuture = 30, printYears = 'some', numIter = 1000)"
      ],
      "execution_count": 0,
      "outputs": [
        {
          "output_type": "stream",
          "text": [
            "Testing period from Jan 01, 2003 to Jul 01, 2003\n",
            "Testing period from Jan 01, 2005 to Jul 01, 2005\n",
            "Testing period from Jan 01, 2007 to Jul 01, 2007\n",
            "Testing period from Jan 01, 2009 to Jul 01, 2009\n",
            "Testing period from Jan 01, 2011 to Jul 01, 2011\n",
            "Testing period from Jan 01, 2013 to Jul 01, 2013\n",
            "Testing period from Jan 01, 2015 to Jul 01, 2015\n",
            "\n",
            "From the period 01-01-2003 to 07-01-2016, the total returns were:\n",
            "\tStatic Returns: 3556.72%   (30.55% /yr)\n",
            "\tModel Returns: 3936.21%   (31.51% /yr)\n",
            "\n",
            "Based on these results, an investor would have been better off\u001b[1m using the model to buy/sell the stock throughout the period. \u001b[0m\n",
            "The total accuracy of the model was 0.61%  (min 0.30%,  max 0.96%)\n"
          ],
          "name": "stdout"
        },
        {
          "output_type": "display_data",
          "data": {
            "image/png": "[encoded data removed]",
            "text/plain": [
              "<Figure size 432x288 with 1 Axes>"
            ]
          },
          "metadata": {
            "tags": []
          }
        }
      ]
    },
    {
      "cell_type": "code",
      "metadata": {
        "id": "ZEq-CR7Hc6h2",
        "colab_type": "code",
        "outputId": "9fc6d39b-652d-4659-8ab2-18d495908cdd",
        "colab": {
          "base_uri": "https://localhost:8080/",
          "height": 557
        }
      },
      "source": [
        "netCols = ['5 Day Change',\n",
        "           '10 Day Moving Average Ratio',\n",
        "           '50 Day Moving Average Ratio',\n",
        "           '200 Day Moving Average Ratio',\n",
        "           'Volume',\n",
        "           'Market / Book Ratio',\n",
        "           'P/E',\n",
        "           'Debt / Equity Ratio',\n",
        "           'Free Cash Flow Yield']\n",
        "           \n",
        "results = runAllPeriods('AMZN', startMidDate, finalMidDate, modelType = 'NeuralNet', cols = netCols, trainDataYears = 1, daysIntoFuture = 130, printYears = 'some', numIter = 1000)"
      ],
      "execution_count": 0,
      "outputs": [
        {
          "output_type": "stream",
          "text": [
            "Testing period from Jan 01, 2003 to Jul 01, 2003\n",
            "Testing period from Jan 01, 2005 to Jul 01, 2005\n",
            "Testing period from Jan 01, 2007 to Jul 01, 2007\n",
            "Testing period from Jan 01, 2009 to Jul 01, 2009\n",
            "Testing period from Jan 01, 2011 to Jul 01, 2011\n",
            "Testing period from Jan 01, 2013 to Jul 01, 2013\n",
            "Testing period from Jan 01, 2015 to Jul 01, 2015\n",
            "\n",
            "From the period 01-01-2003 to 07-01-2016, the total returns were:\n",
            "\tStatic Returns: 3556.72%   (30.55% /yr)\n",
            "\tModel Returns: 1357.20%   (21.95% /yr)\n",
            "\n",
            "Based on these results, an investor would have been better off\u001b[1m holding onto the stock for the entire period. \u001b[0m\n",
            "The total accuracy of the model was 0.49%  (min 0.00%,  max 1.00%)\n"
          ],
          "name": "stdout"
        },
        {
          "output_type": "display_data",
          "data": {
            "image/png": "[encoded data removed]",
            "text/plain": [
              "<Figure size 432x288 with 1 Axes>"
            ]
          },
          "metadata": {
            "tags": []
          }
        }
      ]
    },
    {
      "cell_type": "markdown",
      "metadata": {
        "id": "Hdw3Tk1rOgxM",
        "colab_type": "text"
      },
      "source": [
        "## Case Study: DuPont de Nemours, Inc. (DD)\n",
        "Static Returns: 3.69% /yr\n",
        "\n",
        "**Logistic Regrssion Returns: 5.66% /yr**\n",
        "\n",
        "**Neural Network Returns: 7.93% /yr**"
      ]
    },
    {
      "cell_type": "code",
      "metadata": {
        "id": "xM1BQpx0jwff",
        "colab_type": "code",
        "outputId": "c3ea8aba-6330-4a38-85d7-538e699d4f7e",
        "colab": {
          "base_uri": "https://localhost:8080/"
        }
      },
      "source": [
        "logCols = ['Free Cash Flow Yield',\n",
        "           'Debt / Equity Ratio',\n",
        "           'Market / Book Ratio',\n",
        "           'P/E']\n",
        "           \n",
        "results = runAllPeriods('DD', startMidDate, finalMidDate, modelType = 'LogReg', cols = logCols, trainDataYears = 1, daysIntoFuture = 65, printYears = 'some', numIter = 1000)"
      ],
      "execution_count": 0,
      "outputs": [
        {
          "output_type": "stream",
          "text": [
            "Testing period from Jan 01, 2003 to Jul 01, 2003\n",
            "Testing period from Jan 01, 2005 to Jul 01, 2005\n",
            "Testing period from Jan 01, 2007 to Jul 01, 2007\n",
            "Testing period from Jan 01, 2009 to Jul 01, 2009\n",
            "Testing period from Jan 01, 2011 to Jul 01, 2011\n",
            "Testing period from Jan 01, 2013 to Jul 01, 2013\n",
            "Testing period from Jan 01, 2015 to Jul 01, 2015\n",
            "\n",
            "From the period 01-01-2003 to 07-01-2016, the total returns were:\n",
            "\tStatic Returns: 63.20%   (3.69% /yr)\n",
            "\tModel Returns: 110.36%   (5.66% /yr)\n",
            "\n",
            "Based on these results, an investor would have been better off\u001b[1m using the model to buy/sell the stock throughout the period. \u001b[0m\n",
            "The total accuracy of the model was 0.45%  (min 0.02%,  max 1.00%)\n"
          ],
          "name": "stdout"
        },
        {
          "output_type": "display_data",
          "data": {
            "image/png": "[encoded data removed]",
            "text/plain": [
              "<Figure size 432x288 with 1 Axes>"
            ]
          },
          "metadata": {
            "tags": []
          }
        }
      ]
    },
    {
      "cell_type": "code",
      "metadata": {
        "id": "RrDfCBkAjtlK",
        "colab_type": "code",
        "outputId": "7345d0b7-7ccb-48df-9e93-57d200c8337e",
        "colab": {
          "base_uri": "https://localhost:8080/"
        }
      },
      "source": [
        "logCols = ['Free Cash Flow Yield',\n",
        "           'Debt / Equity Ratio',\n",
        "           'Market / Book Ratio',\n",
        "           'P/E']\n",
        "           \n",
        "results = runAllPeriods('DD' , startMidDate, finalMidDate, modelType = 'NeuralNet', cols = logCols, trainDataYears = 1, daysIntoFuture = 30, printYears = 'some', numIter = 1000)"
      ],
      "execution_count": 0,
      "outputs": [
        {
          "output_type": "stream",
          "text": [
            "Testing period from Jan 01, 2003 to Jul 01, 2003\n",
            "Testing period from Jan 01, 2005 to Jul 01, 2005\n",
            "Testing period from Jan 01, 2007 to Jul 01, 2007\n",
            "Testing period from Jan 01, 2009 to Jul 01, 2009\n",
            "Testing period from Jan 01, 2011 to Jul 01, 2011\n",
            "Testing period from Jan 01, 2013 to Jul 01, 2013\n",
            "Testing period from Jan 01, 2015 to Jul 01, 2015\n",
            "\n",
            "From the period 01-01-2003 to 07-01-2016, the total returns were:\n",
            "\tStatic Returns: 63.20%   (3.69% /yr)\n",
            "\tModel Returns: 180.34%   (7.93% /yr)\n",
            "\n",
            "Based on these results, an investor would have been better off\u001b[1m using the model to buy/sell the stock throughout the period. \u001b[0m\n",
            "The total accuracy of the model was 0.51%  (min 0.18%,  max 0.86%)\n"
          ],
          "name": "stdout"
        },
        {
          "output_type": "display_data",
          "data": {
            "image/png": "[encoded data removed]",
            "text/plain": [
              "<Figure size 432x288 with 1 Axes>"
            ]
          },
          "metadata": {
            "tags": []
          }
        }
      ]
    },
    {
      "cell_type": "markdown",
      "metadata": {
        "id": "T1ekzLn4J_wA",
        "colab_type": "text"
      },
      "source": [
        "## Case Study: Exxon Mobil Corporation (XOM)\n",
        "\n",
        "Static Returns: 7.46% /yr\n",
        "\n",
        "**Logistic Regression Returns: 11.74% /yr**\n",
        "\n",
        "**Neural Network Returns: 13.47% /yr**"
      ]
    },
    {
      "cell_type": "code",
      "metadata": {
        "id": "_p5WIqUnIvY4",
        "colab_type": "code",
        "outputId": "03eb5f50-ed82-4500-d16d-c6ab104e42a4",
        "colab": {
          "base_uri": "https://localhost:8080/"
        }
      },
      "source": [
        "logCols = ['Debt / Equity Ratio',\n",
        "           '50 Day Moving Average Ratio',\n",
        "           '30 Day Change',\n",
        "           '10 Day Moving Average Ratio',\n",
        "           '5 Day Change',\n",
        "           'Market / Book Ratio',\n",
        "           '200 Day Moving Average Ratio']\n",
        "           \n",
        "results = runAllPeriods('XOM', startMidDate, finalMidDate, modelType = 'LogReg', cols = logCols, trainDataYears = 1, daysIntoFuture = 30, printYears = 'some', numIter = 1000)"
      ],
      "execution_count": 0,
      "outputs": [
        {
          "output_type": "stream",
          "text": [
            "Testing period from Jan 01, 2003 to Jul 01, 2003\n",
            "Testing period from Jan 01, 2005 to Jul 01, 2005\n",
            "Testing period from Jan 01, 2007 to Jul 01, 2007\n",
            "Testing period from Jan 01, 2009 to Jul 01, 2009\n",
            "Testing period from Jan 01, 2011 to Jul 01, 2011\n",
            "Testing period from Jan 01, 2013 to Jul 01, 2013\n",
            "Testing period from Jan 01, 2015 to Jul 01, 2015\n",
            "\n",
            "From the period 01-01-2003 to 07-01-2016, the total returns were:\n",
            "\tStatic Returns: 164.28%   (7.46% /yr)\n",
            "\tModel Returns: 347.67%   (11.74% /yr)\n",
            "\n",
            "Based on these results, an investor would have been better off\u001b[1m using the model to buy/sell the stock throughout the period. \u001b[0m\n",
            "The total accuracy of the model was 0.56%  (min 0.09%, median 0.62,  max 0.85%)\n"
          ],
          "name": "stdout"
        },
        {
          "output_type": "display_data",
          "data": {
            "image/png": "[encoded data removed]",
            "text/plain": [
              "<Figure size 432x288 with 1 Axes>"
            ]
          },
          "metadata": {
            "tags": []
          }
        }
      ]
    },
    {
      "cell_type": "code",
      "metadata": {
        "id": "01rs__OYMQ2R",
        "colab_type": "code",
        "outputId": "b9690e50-44a7-4c1e-a0d9-5f91ef651a92",
        "colab": {
          "base_uri": "https://localhost:8080/"
        }
      },
      "source": [
        "netCols = ['Debt / Equity Ratio',\n",
        "           '50 Day Moving Average Ratio',\n",
        "           '30 Day Change',\n",
        "           '10 Day Moving Average Ratio',\n",
        "           '5 Day Change',\n",
        "           'Market / Book Ratio']\n",
        "           \n",
        "results = runAllPeriods('XOM', startMidDate, finalMidDate, modelType = 'NeuralNet', cols = netCols, trainDataYears = 2, daysIntoFuture = 30, printYears = 'some', numIter = 1000)"
      ],
      "execution_count": 0,
      "outputs": [
        {
          "output_type": "stream",
          "text": [
            "Testing period from Jan 01, 2003 to Jul 01, 2003\n",
            "Testing period from Jan 01, 2005 to Jul 01, 2005\n",
            "Testing period from Jan 01, 2007 to Jul 01, 2007\n",
            "Testing period from Jan 01, 2009 to Jul 01, 2009\n",
            "Testing period from Jan 01, 2011 to Jul 01, 2011\n",
            "Testing period from Jan 01, 2013 to Jul 01, 2013\n",
            "Testing period from Jan 01, 2015 to Jul 01, 2015\n",
            "\n",
            "From the period 01-01-2003 to 07-01-2016, the total returns were:\n",
            "\tStatic Returns: 164.28%   (7.46% /yr)\n",
            "\tModel Returns: 450.48%   (13.47% /yr)\n",
            "\n",
            "Based on these results, an investor would have been better off\u001b[1m using the model to buy/sell the stock throughout the period. \u001b[0m\n",
            "The total accuracy of the model was 0.55%  (min 0.14%, median 0.61,  max 0.91%)\n"
          ],
          "name": "stdout"
        },
        {
          "output_type": "display_data",
          "data": {
            "image/png": "[encoded data removed]",
            "text/plain": [
              "<Figure size 432x288 with 1 Axes>"
            ]
          },
          "metadata": {
            "tags": []
          }
        }
      ]
    },
    {
      "cell_type": "markdown",
      "metadata": {
        "id": "6H_rVajwYViM",
        "colab_type": "text"
      },
      "source": [
        "## Case Study: IBM Corporation (IBM)\n",
        "\n",
        "Static Returns: 4.80% /yr\n",
        "\n",
        "**Logistic Regression Returns: 7.66% /yr**\n",
        "\n",
        "**Neural Network Returns: 8.31% /yr**"
      ]
    },
    {
      "cell_type": "code",
      "metadata": {
        "id": "kyiRl5nEaCAi",
        "colab_type": "code",
        "outputId": "a046cf04-771d-4751-bdb9-e8d6309916fc",
        "colab": {
          "base_uri": "https://localhost:8080/"
        }
      },
      "source": [
        "logCols = ['Free Cash Flow Yield',\n",
        "           'P/E',\n",
        "           'Price / 52 Week High',\n",
        "           'Volume',\n",
        "           'Market / Book Ratio']\n",
        "           \n",
        "results = runAllPeriods('IBM', startMidDate, finalMidDate, modelType = 'LogReg', cols = logCols, trainDataYears = 1, daysIntoFuture = 65, printYears = 'some', numIter = 1000)"
      ],
      "execution_count": 0,
      "outputs": [
        {
          "output_type": "stream",
          "text": [
            "Testing period from Jan 01, 2003 to Jul 01, 2003\n",
            "Testing period from Jan 01, 2005 to Jul 01, 2005\n",
            "Testing period from Jan 01, 2007 to Jul 01, 2007\n",
            "Testing period from Jan 01, 2009 to Jul 01, 2009\n",
            "Testing period from Jan 01, 2011 to Jul 01, 2011\n",
            "Testing period from Jan 01, 2013 to Jul 01, 2013\n",
            "Testing period from Jan 01, 2015 to Jul 01, 2015\n",
            "\n",
            "From the period 01-01-2003 to 07-01-2016, the total returns were:\n",
            "\tStatic Returns: 88.38%   (4.80% /yr)\n",
            "\tModel Returns: 170.95%   (7.66% /yr)\n",
            "\n",
            "Based on these results, an investor would have been better off\u001b[1m using the model to buy/sell the stock throughout the period. \u001b[0m\n",
            "The total accuracy of the model was 0.62%  (min 0.07%, median 0.67,  max 1.00%)\n"
          ],
          "name": "stdout"
        },
        {
          "output_type": "display_data",
          "data": {
            "image/png": "[encoded data removed]",
            "text/plain": [
              "<Figure size 432x288 with 1 Axes>"
            ]
          },
          "metadata": {
            "tags": []
          }
        }
      ]
    },
    {
      "cell_type": "code",
      "metadata": {
        "id": "xq_wYDu2XbhV",
        "colab_type": "code",
        "outputId": "834f200e-89a9-410d-b375-c97e840d4b70",
        "colab": {
          "base_uri": "https://localhost:8080/"
        }
      },
      "source": [
        "netCols = ['Free Cash Flow Yield',\n",
        "           'P/E',\n",
        "           'Price / 52 Week High',\n",
        "           'Volume',\n",
        "           'Market / Book Ratio']\n",
        "           \n",
        "results = runAllPeriods('IBM', startMidDate, finalMidDate, modelType = 'NeuralNet', cols = netCols, trainDataYears = 1, daysIntoFuture = 30, printYears = 'some', numIter = 1000)"
      ],
      "execution_count": 0,
      "outputs": [
        {
          "output_type": "stream",
          "text": [
            "Testing period from Jan 01, 2003 to Jul 01, 2003\n",
            "Testing period from Jan 01, 2005 to Jul 01, 2005\n",
            "Testing period from Jan 01, 2007 to Jul 01, 2007\n",
            "Testing period from Jan 01, 2009 to Jul 01, 2009\n",
            "Testing period from Jan 01, 2011 to Jul 01, 2011\n",
            "Testing period from Jan 01, 2013 to Jul 01, 2013\n",
            "Testing period from Jan 01, 2015 to Jul 01, 2015\n",
            "\n",
            "From the period 01-01-2003 to 07-01-2016, the total returns were:\n",
            "\tStatic Returns: 88.38%   (4.80% /yr)\n",
            "\tModel Returns: 193.91%   (8.31% /yr)\n",
            "\n",
            "Based on these results, an investor would have been better off\u001b[1m using the model to buy/sell the stock throughout the period. \u001b[0m\n",
            "The total accuracy of the model was 0.57%  (min 0.02%, median 0.63,  max 1.00%)\n"
          ],
          "name": "stdout"
        },
        {
          "output_type": "display_data",
          "data": {
            "image/png": "[encoded data removed]",
            "text/plain": [
              "<Figure size 432x288 with 1 Axes>"
            ]
          },
          "metadata": {
            "tags": []
          }
        }
      ]
    },
    {
      "cell_type": "markdown",
      "metadata": {
        "id": "1tKIRkW0OB-t",
        "colab_type": "text"
      },
      "source": [
        "## Case Study: Johnson & Johnson (JNJ)\n",
        "\n",
        "Static Returns: 5.99% /yr\n",
        "\n",
        "Logistic Regrssion Returns: 3.70% /yr\n",
        "\n",
        "**Neural Network Returns: 7.25% /yr**"
      ]
    },
    {
      "cell_type": "code",
      "metadata": {
        "id": "zLRbOdFHUZRt",
        "colab_type": "code",
        "outputId": "252bdf67-3e56-43c7-f64f-69329b91ee87",
        "colab": {
          "base_uri": "https://localhost:8080/",
          "height": 557
        }
      },
      "source": [
        "logCols = ['50 Day Moving Average Ratio', \n",
        "           'Volume',\n",
        "           'Market / Book Ratio',\n",
        "           'Free Cash Flow Yield']\n",
        "           \n",
        "results = runAllPeriods('JNJ', startMidDate, finalMidDate, modelType = 'LogReg', cols = logCols, daysIntoFuture = 30, printYears = 'some', numIter = 1000)"
      ],
      "execution_count": 0,
      "outputs": [
        {
          "output_type": "stream",
          "text": [
            "Testing period from Jan 01, 2003 to Jul 01, 2003\n",
            "Testing period from Jan 01, 2005 to Jul 01, 2005\n",
            "Testing period from Jan 01, 2007 to Jul 01, 2007\n",
            "Testing period from Jan 01, 2009 to Jul 01, 2009\n",
            "Testing period from Jan 01, 2011 to Jul 01, 2011\n",
            "Testing period from Jan 01, 2013 to Jul 01, 2013\n",
            "Testing period from Jan 01, 2015 to Jul 01, 2015\n",
            "\n",
            "From the period 01-01-2003 to 07-01-2016, the total returns were:\n",
            "\tStatic Returns: 119.23%   (5.99% /yr)\n",
            "\tModel Returns: 63.39%   (3.70% /yr)\n",
            "\n",
            "Based on these results, an investor would have been better off\u001b[1m holding onto the stock for the entire period. \u001b[0m\n",
            "The total accuracy of the model was 0.50%  (min 0.05%,  max 0.90%)\n"
          ],
          "name": "stdout"
        },
        {
          "output_type": "display_data",
          "data": {
            "image/png": "[encoded data removed]",
            "text/plain": [
              "<Figure size 432x288 with 1 Axes>"
            ]
          },
          "metadata": {
            "tags": []
          }
        }
      ]
    },
    {
      "cell_type": "code",
      "metadata": {
        "id": "m3kwPObAVgci",
        "colab_type": "code",
        "outputId": "8ef22703-6ba5-479a-9628-66510a33b5cf",
        "colab": {
          "base_uri": "https://localhost:8080/",
          "height": 557
        }
      },
      "source": [
        "netCols = ['50 Day Moving Average Ratio',\n",
        "           'Volume',\n",
        "           'Market / Book Ratio',\n",
        "           'Free Cash Flow Yield']\n",
        "           \n",
        "results = runAllPeriods('JNJ', startMidDate, finalMidDate, modelType = 'NeuralNet', cols = netCols, trainDataYears = 2, daysIntoFuture = 130, printYears = 'some', numIter = 1000)"
      ],
      "execution_count": 0,
      "outputs": [
        {
          "output_type": "stream",
          "text": [
            "Testing period from Jan 01, 2003 to Jul 01, 2003\n",
            "Testing period from Jan 01, 2005 to Jul 01, 2005\n",
            "Testing period from Jan 01, 2007 to Jul 01, 2007\n",
            "Testing period from Jan 01, 2009 to Jul 01, 2009\n",
            "Testing period from Jan 01, 2011 to Jul 01, 2011\n",
            "Testing period from Jan 01, 2013 to Jul 01, 2013\n",
            "Testing period from Jan 01, 2015 to Jul 01, 2015\n",
            "\n",
            "From the period 01-01-2003 to 07-01-2016, the total returns were:\n",
            "\tStatic Returns: 119.23%   (5.99% /yr)\n",
            "\tModel Returns: 157.17%   (7.25% /yr)\n",
            "\n",
            "Based on these results, an investor would have been better off\u001b[1m using the model to buy/sell the stock throughout the period. \u001b[0m\n",
            "The total accuracy of the model was 0.43%  (min 0.00%,  max 1.00%)\n"
          ],
          "name": "stdout"
        },
        {
          "output_type": "display_data",
          "data": {
            "image/png": "[encoded data removed]",
            "text/plain": [
              "<Figure size 432x288 with 1 Axes>"
            ]
          },
          "metadata": {
            "tags": []
          }
        }
      ]
    },
    {
      "cell_type": "markdown",
      "metadata": {
        "id": "HASnq5Z6OpYh",
        "colab_type": "text"
      },
      "source": [
        "## Case Study: J.P. Morgan Chase & Co. (JPM)\n",
        "Static Returns: 6.84% /yr\n",
        "\n",
        "Logistic Regrssion Returns: 1.95% /yr\n",
        "\n",
        "**Neural Network Returns: 8.92% /yr**"
      ]
    },
    {
      "cell_type": "code",
      "metadata": {
        "id": "ZPgcElG-OQMK",
        "colab_type": "code",
        "outputId": "3ff61d9b-8c4b-4802-f314-6ed29eb1e9ad",
        "colab": {
          "base_uri": "https://localhost:8080/",
          "height": 557
        }
      },
      "source": [
        "logCols = ['Price / 52 Week High',\n",
        "           'Price / 52 Week Low',\n",
        "           'P/E',\n",
        "           'Market / Book Ratio',\n",
        "           '200 Day Moving Average Ratio',\n",
        "           '50 Day Moving Average Ratio',\n",
        "            '1 Day Change']\n",
        "           \n",
        "results = runAllPeriods('JPM' , startMidDate, finalMidDate, modelType = 'LogReg', cols = logCols, trainDataYears = 1, daysIntoFuture = 30, printYears = 'some', numIter = 1000)"
      ],
      "execution_count": 0,
      "outputs": [
        {
          "output_type": "stream",
          "text": [
            "Testing period from Jan 01, 2003 to Jul 01, 2003\n",
            "Testing period from Jan 01, 2005 to Jul 01, 2005\n",
            "Testing period from Jan 01, 2007 to Jul 01, 2007\n",
            "Testing period from Jan 01, 2009 to Jul 01, 2009\n",
            "Testing period from Jan 01, 2011 to Jul 01, 2011\n",
            "Testing period from Jan 01, 2013 to Jul 01, 2013\n",
            "Testing period from Jan 01, 2015 to Jul 01, 2015\n",
            "\n",
            "From the period 01-01-2003 to 07-01-2016, the total returns were:\n",
            "\tStatic Returns: 144.26%   (6.84% /yr)\n",
            "\tModel Returns: 29.86%   (1.95% /yr)\n",
            "\n",
            "Based on these results, an investor would have been better off\u001b[1m holding onto the stock for the entire period. \u001b[0m\n",
            "The total accuracy of the model was 0.50%  (min 0.17%,  max 0.88%)\n"
          ],
          "name": "stdout"
        },
        {
          "output_type": "display_data",
          "data": {
            "image/png": "[encoded data removed]",
            "text/plain": [
              "<Figure size 432x288 with 1 Axes>"
            ]
          },
          "metadata": {
            "tags": []
          }
        }
      ]
    },
    {
      "cell_type": "code",
      "metadata": {
        "id": "isXgPVkVOSmx",
        "colab_type": "code",
        "outputId": "fab12662-9a4f-4876-d2fa-eac68ae82ccd",
        "colab": {
          "base_uri": "https://localhost:8080/",
          "height": 557
        }
      },
      "source": [
        "netCols = ['Price / 52 Week High',\n",
        "           'P/E',\n",
        "           'Market / Book Ratio',\n",
        "           '200 Day Moving Average Ratio']\n",
        "           \n",
        "results = runAllPeriods('JPM' , startMidDate, finalMidDate, modelType = 'NeuralNet', cols = netCols, trainDataYears = 2, daysIntoFuture = 130, printYears = 'some', numIter = 1000)"
      ],
      "execution_count": 0,
      "outputs": [
        {
          "output_type": "stream",
          "text": [
            "Testing period from Jan 01, 2003 to Jul 01, 2003\n",
            "Testing period from Jan 01, 2005 to Jul 01, 2005\n",
            "Testing period from Jan 01, 2007 to Jul 01, 2007\n",
            "Testing period from Jan 01, 2009 to Jul 01, 2009\n",
            "Testing period from Jan 01, 2011 to Jul 01, 2011\n",
            "Testing period from Jan 01, 2013 to Jul 01, 2013\n",
            "Testing period from Jan 01, 2015 to Jul 01, 2015\n",
            "\n",
            "From the period 01-01-2003 to 07-01-2016, the total returns were:\n",
            "\tStatic Returns: 144.26%   (6.84% /yr)\n",
            "\tModel Returns: 216.81%   (8.92% /yr)\n",
            "\n",
            "Based on these results, an investor would have been better off\u001b[1m using the model to buy/sell the stock throughout the period. \u001b[0m\n",
            "The total accuracy of the model was 0.50%  (min 0.00%,  max 1.00%)\n"
          ],
          "name": "stdout"
        },
        {
          "output_type": "display_data",
          "data": {
            "image/png": "[encoded data removed]",
            "text/plain": [
              "<Figure size 432x288 with 1 Axes>"
            ]
          },
          "metadata": {
            "tags": []
          }
        }
      ]
    },
    {
      "cell_type": "markdown",
      "metadata": {
        "id": "9jWMPw3uvb-D",
        "colab_type": "text"
      },
      "source": [
        "## Case Study: Microsoft Coporation (MSFT)\n",
        "\n",
        "Static Returns: 4.89% /yr\n",
        "\n",
        "**Logistic Regression Returns: 7.79% /yr**\n",
        "\n",
        "**Neural Network Returns: 6.55% /yr**"
      ]
    },
    {
      "cell_type": "code",
      "metadata": {
        "id": "GeqbCszoFjba",
        "colab_type": "code",
        "outputId": "7fc7bce2-b0b3-4fce-b8e9-4380c5170940",
        "colab": {
          "base_uri": "https://localhost:8080/"
        }
      },
      "source": [
        "logCols = ['Market / Book Ratio',\n",
        "           'Price / 52 Week High',\n",
        "           '200 Day Moving Average Ratio',\n",
        "           'Volume']\n",
        "           \n",
        "results = runAllPeriods('MSFT', startMidDate, finalMidDate, modelType = 'LogReg', cols = logCols, trainDataYears = 1, daysIntoFuture = 65, printYears = 'some', numIter = 1000)"
      ],
      "execution_count": 0,
      "outputs": [
        {
          "output_type": "stream",
          "text": [
            "Testing period from Jan 01, 2003 to Jul 01, 2003\n",
            "Testing period from Jan 01, 2005 to Jul 01, 2005\n",
            "Testing period from Jan 01, 2007 to Jul 01, 2007\n",
            "Testing period from Jan 01, 2009 to Jul 01, 2009\n",
            "Testing period from Jan 01, 2011 to Jul 01, 2011\n",
            "Testing period from Jan 01, 2013 to Jul 01, 2013\n",
            "Testing period from Jan 01, 2015 to Jul 01, 2015\n",
            "\n",
            "From the period 01-01-2003 to 07-01-2016, the total returns were:\n",
            "\tStatic Returns: 90.51%   (4.89% /yr)\n",
            "\tModel Returns: 175.13%   (7.79% /yr)\n",
            "\n",
            "Based on these results, an investor would have been better off\u001b[1m using the model to buy/sell the stock throughout the period. \u001b[0m\n",
            "The total accuracy of the model was 0.51%  (min 0.08%, median 0.54,  max 0.97%)\n"
          ],
          "name": "stdout"
        },
        {
          "output_type": "display_data",
          "data": {
            "image/png": "[encoded data removed]",
            "text/plain": [
              "<Figure size 432x288 with 1 Axes>"
            ]
          },
          "metadata": {
            "tags": []
          }
        }
      ]
    },
    {
      "cell_type": "code",
      "metadata": {
        "id": "5AClg0NNt6-z",
        "colab_type": "code",
        "outputId": "e3e7ab5b-c712-4930-9fdc-95ad168089cd",
        "colab": {
          "base_uri": "https://localhost:8080/"
        }
      },
      "source": [
        "netCols = ['Market / Book Ratio',\n",
        "           'Price / 52 Week High',\n",
        "           '200 Day Moving Average Ratio',\n",
        "           '30 Day Change']\n",
        "           \n",
        "results = runAllPeriods('MSFT', startMidDate, finalMidDate, modelType = 'NeuralNet', cols = netCols, trainDataYears = 1, daysIntoFuture = 30, printYears = 'some', numIter = 1000)"
      ],
      "execution_count": 0,
      "outputs": [
        {
          "output_type": "stream",
          "text": [
            "Testing period from Jan 01, 2003 to Jul 01, 2003\n",
            "Testing period from Jan 01, 2005 to Jul 01, 2005\n",
            "Testing period from Jan 01, 2007 to Jul 01, 2007\n",
            "Testing period from Jan 01, 2009 to Jul 01, 2009\n",
            "Testing period from Jan 01, 2011 to Jul 01, 2011\n",
            "Testing period from Jan 01, 2013 to Jul 01, 2013\n",
            "Testing period from Jan 01, 2015 to Jul 01, 2015\n",
            "\n",
            "From the period 01-01-2003 to 07-01-2016, the total returns were:\n",
            "\tStatic Returns: 90.51%   (4.89% /yr)\n",
            "\tModel Returns: 135.58%   (6.55% /yr)\n",
            "\n",
            "Based on these results, an investor would have been better off\u001b[1m using the model to buy/sell the stock throughout the period. \u001b[0m\n",
            "The total accuracy of the model was 0.51%  (min 0.16%, median 0.51,  max 0.88%)\n"
          ],
          "name": "stdout"
        },
        {
          "output_type": "display_data",
          "data": {
            "image/png": "[encoded data removed]",
            "text/plain": [
              "<Figure size 432x288 with 1 Axes>"
            ]
          },
          "metadata": {
            "tags": []
          }
        }
      ]
    },
    {
      "cell_type": "markdown",
      "metadata": {
        "id": "4xTrC7hwUivL",
        "colab_type": "text"
      },
      "source": [
        "## Case Study: Walt Disney Co (DIS)\n",
        "\n",
        "Static Returns: 13.83% /yr\n",
        "\n",
        "Logistic Regrssion Returns: 13.68% /yr\n",
        "\n",
        "**Neural Network Returns: 16.11% /yr**"
      ]
    },
    {
      "cell_type": "code",
      "metadata": {
        "id": "95H6mHRK6opp",
        "colab_type": "code",
        "outputId": "499b3960-de89-4955-e1a1-8049b99e46c0",
        "colab": {
          "base_uri": "https://localhost:8080/",
          "height": 557
        }
      },
      "source": [
        "netCols = ['5 Day Change',\n",
        "           '10 Day Moving Average Ratio',\n",
        "           '50 Day Moving Average Ratio',\n",
        "           '200 Day Moving Average Ratio',\n",
        "           'Volume',\n",
        "           'Market / Book Ratio',\n",
        "           'P/E',\n",
        "           'Debt / Equity Ratio',\n",
        "           'Free Cash Flow Yield']\n",
        "           \n",
        "results = runAllPeriods('DIS', startMidDate, finalMidDate, modelType = 'LogReg', cols = netCols, trainDataYears = 1, daysIntoFuture = 30, printYears = 'some', numIter = 1000)"
      ],
      "execution_count": 0,
      "outputs": [
        {
          "output_type": "stream",
          "text": [
            "Testing period from Jan 01, 2003 to Jul 01, 2003\n",
            "Testing period from Jan 01, 2005 to Jul 01, 2005\n",
            "Testing period from Jan 01, 2007 to Jul 01, 2007\n",
            "Testing period from Jan 01, 2009 to Jul 01, 2009\n",
            "Testing period from Jan 01, 2011 to Jul 01, 2011\n",
            "Testing period from Jan 01, 2013 to Jul 01, 2013\n",
            "Testing period from Jan 01, 2015 to Jul 01, 2015\n",
            "\n",
            "From the period 01-01-2003 to 07-01-2016, the total returns were:\n",
            "\tStatic Returns: 474.50%   (13.83% /yr)\n",
            "\tModel Returns: 464.91%   (13.68% /yr)\n",
            "\n",
            "Based on these results, an investor would have been better off\u001b[1m holding onto the stock for the entire period. \u001b[0m\n",
            "The total accuracy of the model was 0.56%  (min 0.06%, median 0.55,  max 0.93%)\n"
          ],
          "name": "stdout"
        },
        {
          "output_type": "display_data",
          "data": {
            "image/png": "[encoded data removed]",
            "text/plain": [
              "<Figure size 432x288 with 1 Axes>"
            ]
          },
          "metadata": {
            "tags": []
          }
        }
      ]
    },
    {
      "cell_type": "code",
      "metadata": {
        "id": "nLs2oiI9ObEK",
        "colab_type": "code",
        "outputId": "3d5605b0-bc54-4b6d-f448-a8025df48be8",
        "colab": {
          "base_uri": "https://localhost:8080/",
          "height": 557
        }
      },
      "source": [
        "netCols = ['5 Day Change',\n",
        "           '10 Day Moving Average Ratio',\n",
        "           '50 Day Moving Average Ratio',\n",
        "           '200 Day Moving Average Ratio',\n",
        "           'Volume',\n",
        "           'Market / Book Ratio',\n",
        "           'P/E',\n",
        "           'Debt / Equity Ratio',\n",
        "           'Free Cash Flow Yield']\n",
        "           \n",
        "results = runAllPeriods('DIS', startMidDate, finalMidDate, modelType = 'NeuralNet', cols = netCols, trainDataYears = 1, daysIntoFuture = 130, printYears = 'some', numIter = 1000)"
      ],
      "execution_count": 0,
      "outputs": [
        {
          "output_type": "stream",
          "text": [
            "Testing period from Jan 01, 2003 to Jul 01, 2003\n",
            "Testing period from Jan 01, 2005 to Jul 01, 2005\n",
            "Testing period from Jan 01, 2007 to Jul 01, 2007\n",
            "Testing period from Jan 01, 2009 to Jul 01, 2009\n",
            "Testing period from Jan 01, 2011 to Jul 01, 2011\n",
            "Testing period from Jan 01, 2013 to Jul 01, 2013\n",
            "Testing period from Jan 01, 2015 to Jul 01, 2015\n",
            "\n",
            "From the period 01-01-2003 to 07-01-2016, the total returns were:\n",
            "\tStatic Returns: 474.50%   (13.83% /yr)\n",
            "\tModel Returns: 651.33%   (16.11% /yr)\n",
            "\n",
            "Based on these results, an investor would have been better off\u001b[1m using the model to buy/sell the stock throughout the period. \u001b[0m\n",
            "The total accuracy of the model was 0.58%  (min 0.00%,  max 1.00%)\n"
          ],
          "name": "stdout"
        },
        {
          "output_type": "display_data",
          "data": {
            "image/png": "[encoded data removed]",
            "text/plain": [
              "<Figure size 432x288 with 1 Axes>"
            ]
          },
          "metadata": {
            "tags": []
          }
        }
      ]
    },
    {
      "cell_type": "markdown",
      "metadata": {
        "id": "1om-9jmJXyh5",
        "colab_type": "text"
      },
      "source": [
        "# Evaluation"
      ]
    },
    {
      "cell_type": "markdown",
      "metadata": {
        "id": "VF0EXL0X35Xf",
        "colab_type": "text"
      },
      "source": [
        "Below are the annualized returns of each model for the tested companies:\n",
        "\n",
        "|Stock                   |Static Return|Logistic Regression|Neural Network|\n",
        "|-----------------------:|------------:|------------------:|-------------:|\n",
        "|Amazon.com, Inc.        |30.55%       |**31.51%**         |21.95%        |\n",
        "|DuPont de Nemours, Inc. |3.69%        |**5.66%**          |**7.93%**     |\n",
        "|Exxon Mobil Corporation |7.46%        |**11.74%**         |**13.47%**    |\n",
        "|IBM Corporation         |4.80%        |**7.66%**          |**8.31%**     |\n",
        "|Johnson & Johnson       |5.90%        |3.70%              |**7.25%**     |\n",
        "|J.P. Morgan Chase & Co. |6.84%        |1.95%              |**8.92%**     |\n",
        "|Microsoft Corporation   |4.89%        |**7.79%**          |**6.55%**     |\n",
        "|Walt Disney Co          |13.83%       |13.68%             |**16.11%**    |\n",
        "\n",
        "*Bolded returns reflect annualized returns that were greater than the unengaged investor*"
      ]
    },
    {
      "cell_type": "markdown",
      "metadata": {
        "id": "alPTW7Lnt5bh",
        "colab_type": "text"
      },
      "source": [
        "\n",
        "**Conclusions**\n",
        "\n",
        "The above chart shows that the model was able to successfully outperform the unengaged investor for all 8 securities tested. Companies were chosen from a broad range of sectors to test the robustness of the model.\n",
        "\n",
        "The logistic regression proved to be the more lucrative investing technique for 5/8 holdings, with an average return of 0.72% /yr greater than the static return.\n",
        "\n",
        "The neural network proved to be the more lucrative investing technique for 7/8 holdings, with an average return of 1.57% /yr greater than the static return. Among the 7 stocks in which the model performed better, the average return was 3.02% /yr greater than the static return.\n",
        "\n",
        "**Recommendations**\n",
        "\n",
        "While the model appears to have performed well, I would not recommend using this to guide any investment decisions. The use of averaging over many years and multiple economic cycles is naiive, expecially considering the lack of information used in the decision making process of these models. This model can serve as a guide, but it should not be used to pick which securities to buy. **The purpose of this model is to maximize the returns of a holding, not to give input on which stocks will outperform others.**"
      ]
    }
  ]
}